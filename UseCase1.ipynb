{
 "cells": [
  {
   "cell_type": "markdown",
   "id": "655c4342",
   "metadata": {},
   "source": [
    "Ingesting Data Using Pandas"
   ]
  },
  {
   "cell_type": "code",
   "execution_count": 18,
   "id": "864cb60e",
   "metadata": {},
   "outputs": [
    {
     "name": "stdout",
     "output_type": "stream",
     "text": [
      "     Branch        Date      Item  Quantity   Price  TotalSales\n",
      "0  New York  2023-09-01   Printer         2  925.03     1850.06\n",
      "1   Chicago  2023-09-02     Mouse         1  231.07      231.07\n",
      "2  New York  2023-09-03  Keyboard         3  997.98     2993.94\n",
      "3  New York  2023-09-04   Monitor         7  535.32     3747.24\n",
      "4   Chicago  2023-09-05  Keyboard         1  804.66      804.66\n",
      "\n",
      "     Branch       Date      Item  Quantity   Price  TotalSales\n",
      "0  New York 2023-09-01   Printer         2  925.03     1850.06\n",
      "1   Chicago 2023-09-02     Mouse         1  231.07      231.07\n",
      "2  New York 2023-09-03  Keyboard         3  997.98     2993.94\n",
      "3  New York 2023-09-04   Monitor         7  535.32     3747.24\n",
      "4   Chicago 2023-09-05  Keyboard         1  804.66      804.66\n",
      "\n",
      "     Branch       Date      Item  Quantity   Price  TotalSales\n",
      "0  New York 2023-09-01   Printer         2  925.03     1850.06\n",
      "1   Chicago 2023-09-02     Mouse         1  231.07      231.07\n",
      "2  New York 2023-09-03  Keyboard         3  997.98     2993.94\n",
      "3  New York 2023-09-04   Monitor         7  535.32     3747.24\n",
      "4   Chicago 2023-09-05  Keyboard         1  804.66      804.66\n"
     ]
    }
   ],
   "source": [
    "import pandas as pd\n",
    "\n",
    "#Load CSV data\n",
    "csv_data = pd.read_csv('branch_sales1.csv')\n",
    "\n",
    "#Load JSON data\n",
    "json_data = pd.read_json('branch_sales1.json')\n",
    "\n",
    "#Load Excel data\n",
    "excel_data = pd.read_excel('branch_sales1.xlsx')\n",
    "\n",
    "#Preview the data\n",
    "print(csv_data.head())\n",
    "print()\n",
    "print(json_data.head())\n",
    "print()\n",
    "print(excel_data.head())\n"
   ]
  },
  {
   "cell_type": "markdown",
   "id": "f3bee37f",
   "metadata": {},
   "source": [
    " Data Cleaning"
   ]
  },
  {
   "cell_type": "code",
   "execution_count": 19,
   "id": "78e21aaa",
   "metadata": {},
   "outputs": [
    {
     "name": "stderr",
     "output_type": "stream",
     "text": [
      "C:\\Users\\rupik\\anaconda3\\envs\\Tensorflow\\lib\\site-packages\\ipykernel_launcher.py:7: FutureWarning: DataFrame.mean and DataFrame.median with numeric_only=None will include datetime64 and datetime64tz columns in a future version.\n",
      "  import sys\n",
      "C:\\Users\\rupik\\anaconda3\\envs\\Tensorflow\\lib\\site-packages\\ipykernel_launcher.py:8: FutureWarning: DataFrame.mean and DataFrame.median with numeric_only=None will include datetime64 and datetime64tz columns in a future version.\n",
      "  \n",
      "C:\\Users\\rupik\\anaconda3\\envs\\Tensorflow\\lib\\site-packages\\ipykernel_launcher.py:9: FutureWarning: DataFrame.mean and DataFrame.median with numeric_only=None will include datetime64 and datetime64tz columns in a future version.\n",
      "  if __name__ == '__main__':\n"
     ]
    }
   ],
   "source": [
    "#Convert 'Date' to datetime\n",
    "csv_data['Date'] = pd.to_datetime(csv_data['Date'])\n",
    "json_data['Date'] = pd.to_datetime(json_data['Date'])\n",
    "excel_data['Date'] = pd.to_datetime(excel_data['Date'])\n",
    "\n",
    "#Fill missing values with defaults (e.g., mean for numeric columns)\n",
    "csv_data.fillna(csv_data.mean(), inplace=True)\n",
    "json_data.fillna(json_data.mean(), inplace=True)\n",
    "excel_data.fillna(excel_data.mean(), inplace=True)\n",
    "\n",
    "#Remove duplicates if any\n",
    "csv_data.drop_duplicates(inplace=True)\n",
    "json_data.drop_duplicates(inplace=True)\n",
    "excel_data.drop_duplicates(inplace=True)\n",
    "\n",
    "#Ensure 'Quantity' and 'Price' are numeric\n",
    "csv_data['Quantity'] = pd.to_numeric(csv_data['Quantity'])\n",
    "json_data['Quantity'] = pd.to_numeric(json_data['Quantity'])\n",
    "excel_data['Quantity'] = pd.to_numeric(excel_data['Quantity'])\n"
   ]
  },
  {
   "cell_type": "markdown",
   "id": "2d85d800",
   "metadata": {},
   "source": [
    "Data Transformation"
   ]
  },
  {
   "cell_type": "code",
   "execution_count": 20,
   "id": "f212cdb1",
   "metadata": {},
   "outputs": [],
   "source": [
    "#Combine datasets into one DataFrame\n",
    "combined_data = pd.concat([csv_data, json_data, excel_data], ignore_index=True)\n",
    "\n",
    "#Standardize column names and data types if necessary\n",
    "combined_data.columns = ['Branch', 'Date', 'Item', 'Quantity', 'Price', 'TotalSales']\n",
    "\n",
    "#Recalculate TotalSales if necessary\n",
    "combined_data['TotalSales'] = combined_data['Quantity'] * combined_data['Price']\n"
   ]
  },
  {
   "cell_type": "markdown",
   "id": "4475b3d4",
   "metadata": {},
   "source": [
    "Data Standardization"
   ]
  },
  {
   "cell_type": "code",
   "execution_count": 25,
   "id": "19b5cc56",
   "metadata": {},
   "outputs": [
    {
     "name": "stdout",
     "output_type": "stream",
     "text": [
      "     Branch       Date      Item  Quantity   Price  TotalSales\n",
      "0  New York 2023-09-01   Printer         2  925.03     1850.06\n",
      "1   Chicago 2023-09-02     Mouse         1  231.07      231.07\n",
      "2  New York 2023-09-03  Keyboard         3  997.98     2993.94\n",
      "3  New York 2023-09-04   Monitor         7  535.32     3747.24\n",
      "4   Chicago 2023-09-05  Keyboard         1  804.66      804.66\n"
     ]
    },
    {
     "data": {
      "text/plain": [
       "(30, 6)"
      ]
     },
     "execution_count": 25,
     "metadata": {},
     "output_type": "execute_result"
    }
   ],
   "source": [
    "#Ensure consistency in data types\n",
    "combined_data['Price'] = combined_data['Price'].astype(float)\n",
    "combined_data['Quantity'] = combined_data['Quantity'].astype(int)\n",
    "combined_data['TotalSales'] = combined_data['TotalSales'].astype(float)\n",
    "\n",
    "#Final data preview\n",
    "print(combined_data.head())\n",
    "\n",
    "#Drop the duplicates\n",
    "combined_data = combined_data.drop_duplicates()\n",
    "\n",
    "#Save the unified data into a standard format, e.g., CSV\n",
    "combined_data.to_csv('unified_sales_data.csv', index=False)\n",
    "combined_data.shape"
   ]
  },
  {
   "cell_type": "code",
   "execution_count": null,
   "id": "0d7a843d",
   "metadata": {},
   "outputs": [],
   "source": []
  }
 ],
 "metadata": {
  "kernelspec": {
   "display_name": "Python 3",
   "language": "python",
   "name": "python3"
  },
  "language_info": {
   "codemirror_mode": {
    "name": "ipython",
    "version": 3
   },
   "file_extension": ".py",
   "mimetype": "text/x-python",
   "name": "python",
   "nbconvert_exporter": "python",
   "pygments_lexer": "ipython3",
   "version": "3.6.13"
  }
 },
 "nbformat": 4,
 "nbformat_minor": 5
}
